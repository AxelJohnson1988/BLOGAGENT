{
  "cells": [
    {
      "cell_type": "markdown",
      "metadata": {
        "id": "view-in-github",
        "colab_type": "text"
      },
      "source": [
        "<a href=\"https://colab.research.google.com/github/AxelJohnson1988/BLOGAGENT/blob/main/Copy_of_colab_models_as_a_service.ipynb\" target=\"_parent\"><img src=\"https://colab.research.google.com/assets/colab-badge.svg\" alt=\"Open In Colab\"/></a>"
      ]
    },
    {
      "cell_type": "markdown",
      "metadata": {
        "id": "KWzdSztXWcpg"
      },
      "source": [
        "# Colab AI: List available models"
      ]
    },
    {
      "cell_type": "code",
      "execution_count": 1,
      "metadata": {
        "id": "Ucchuu5vV3Jp",
        "outputId": "3159a0e8-6152-4a8f-a9fa-fe1889a0f4e2",
        "colab": {
          "base_uri": "https://localhost:8080/"
        }
      },
      "outputs": [
        {
          "output_type": "execute_result",
          "data": {
            "text/plain": [
              "['google/gemini-2.0-flash',\n",
              " 'google/gemini-2.0-flash-lite',\n",
              " 'google/gemini-2.5-flash',\n",
              " 'google/gemini-2.5-flash-lite',\n",
              " 'google/gemini-2.5-pro',\n",
              " 'google/gemma-3-12b',\n",
              " 'google/gemma-3-1b',\n",
              " 'google/gemma-3-27b',\n",
              " 'google/gemma-3-4b']"
            ]
          },
          "metadata": {},
          "execution_count": 1
        }
      ],
      "source": [
        "from google.colab import ai\n",
        "ai.list_models()"
      ]
    },
    {
      "cell_type": "markdown",
      "metadata": {
        "id": "LjfCGEpzDsD9"
      },
      "source": [
        "The model names give you a hint about their capabilities and intended use:\n",
        "\n",
        "Pro: These are the most capable models, ideal for complex reasoning, creative tasks, and detailed analysis.\n",
        "\n",
        "Flash: These models are optimized for high speed and efficiency, making them great for summarization, chat applications, and tasks requiring rapid responses.\n",
        "\n",
        "Gemma: These are lightweight, open-weight models suitable for a variety of text generation tasks and are great for experimentation."
      ]
    },
    {
      "cell_type": "markdown",
      "metadata": {
        "id": "oypl6kfOX9Jw"
      },
      "source": [
        "# Colab AI: Choose a different model"
      ]
    },
    {
      "cell_type": "code",
      "execution_count": 2,
      "metadata": {
        "id": "NHO9VzO9AHZP",
        "outputId": "d48fc2f5-ddde-45aa-a836-2b579d222975",
        "colab": {
          "base_uri": "https://localhost:8080/"
        }
      },
      "outputs": [
        {
          "output_type": "stream",
          "name": "stdout",
          "text": [
            "The capital of England is **London**.\n",
            "\n"
          ]
        }
      ],
      "source": [
        "from google.colab import ai\n",
        "\n",
        "response = ai.generate_text(\"What is the capital of England\", model_name='google/gemini-2.0-flash-lite')\n",
        "print(response)"
      ]
    },
    {
      "cell_type": "markdown",
      "metadata": {
        "id": "JpUByA5CYQTa"
      },
      "source": [
        "# Colab AI: Simple batch generation example"
      ]
    },
    {
      "cell_type": "code",
      "execution_count": 3,
      "metadata": {
        "id": "z0rmsI9zYJ-o",
        "outputId": "69a9f7c6-4d36-4e29-e1a0-97e39d29997c",
        "colab": {
          "base_uri": "https://localhost:8080/"
        }
      },
      "outputs": [
        {
          "output_type": "stream",
          "name": "stdout",
          "text": [
            "The capital of France is **Paris**.\n"
          ]
        }
      ],
      "source": [
        "# Only text-to-text input/output is supported\n",
        "from google.colab import ai\n",
        "\n",
        "response = ai.generate_text(\"What is the capital of France?\")\n",
        "print(response)"
      ]
    },
    {
      "cell_type": "markdown",
      "metadata": {
        "id": "AvJPCM4cYawP"
      },
      "source": [
        "# Colab AI: Simple streaming example"
      ]
    },
    {
      "cell_type": "code",
      "execution_count": 4,
      "metadata": {
        "id": "4BNgxiB6--_5",
        "outputId": "0c3c1c2b-aa4e-4cdf-bdc9-2c54ca413875",
        "colab": {
          "base_uri": "https://localhost:8080/"
        }
      },
      "outputs": [
        {
          "output_type": "stream",
          "name": "stdout",
          "text": [
            "Eleanor lived in a small cottage where the scent of old paper and lavender perpetually mingled. Her days were a quiet tapestry of gardening, tea, and most importantly, reading. Her most cherished possession, after her worn collection of classics, was a slender, emerald silk bookmark, a gift from a friend long past.\n",
            "\n",
            "One Tuesday morning, after finishing a chapter of \"Pride and Prejudice,\" Eleanor set the bookmark carefully between the pages of her current read, \"Wuthering Heights.\" She placed the book on her bedside table and went to water her hydrangeas. When she returned, cup of chamomile in hand, the bookmark was gone.\n",
            "\n",
            "Eleanor frowned. She searched the bedside table, the floor, under the pillows. Nothing. She sighed, choosing another, less loved bookmark, and settled down.\n",
            "\n",
            "The next day, she found the emerald bookmark tucked into a loaf of bread she'd just bought from the bakery. Not *in* the bread, mind you, but neatly slipped into the plastic wrapping. Eleanor blinked, then let out a soft, surprised laugh. \"Well, isn't that something?\"\n",
            "\n",
            "It became a game. The bookmark would disappear from her current book, only to reappear in the most unexpected places. She found it once nestled amongst the tea bags in her kitchen cupboard, another time marking a specific recipe in an old cookbook she hadn't touched in years (for apple pie, her late husband's favourite). It showed up tucked into a photo album, pointing directly at a picture of her as a young woman, laughing on a swing.\n",
            "\n",
            "Eleanor stopped trying to keep track of it. Instead, she’d wake up each morning with a little flutter of anticipation. Where would it be today? It was a gentle, mischievous magic, a whisper of wonder in her predictable world. She no longer felt quite so alone. The bookmark, she decided, was a tiny, emerald-green adventurer, determined to remind her of forgotten joys, hidden memories, and the sweet surprise of everyday enchantment."
          ]
        }
      ],
      "source": [
        "from google.colab import ai\n",
        "\n",
        "stream = ai.generate_text(\"Tell me a short story.\", stream=True)\n",
        "for text in stream:\n",
        "  print(text, end='')"
      ]
    },
    {
      "cell_type": "markdown",
      "metadata": {
        "id": "VBJk0a4rY-n1"
      },
      "source": [
        "# Colab AI: Formatted streaming example"
      ]
    },
    {
      "cell_type": "code",
      "execution_count": 5,
      "metadata": {
        "id": "CpMmpaVClSBV",
        "outputId": "3cbabe20-bb41-4995-eb0f-41863a6c8286",
        "colab": {
          "base_uri": "https://localhost:8080/"
        }
      },
      "outputs": [
        {
          "output_type": "stream",
          "name": "stdout",
          "text": [
            "Alright, buckle up, because the evolution of the Roman Empire is a saga worthy\n",
            "of an epic poem, a sprawling drama spanning centuries of relentless ambition,\n",
            "political intrigue, military conquest, and, ultimately, gradual decay. It's a\n",
            "story not of simple linear progression, but of constant adaptation, reinvention,\n",
            "and unexpected twists and turns. To truly appreciate it, we must delve into the\n",
            "mists of legend, navigate the tumultuous waters of the Republic, and witness the\n",
            "rise and fall of emperors good, bad, and utterly mad.\n",
            "\n",
            "Our journey begins, as all good Roman stories do, with **myth and legend.** The\n",
            "traditional narrative, propagated by Romans themselves, places the founding of\n",
            "Rome in 753 BCE. Romulus and Remus, twin brothers suck led by a she-wolf (a\n",
            "rather unsubtle metaphor for the city's fierce, tenacious nature), are said to\n",
            "have clashed, culminating in Romulus slaying his brother and establishing the\n",
            "city on the Palatine Hill. Whether literally true or not, this foundational myth\n",
            "served a vital purpose: to instill a sense of divine origin and heroic destiny\n",
            "from the very beginning.\n",
            "\n",
            "For centuries, Rome was a **kingdom, ruled by a series of monarchs.** These\n",
            "kings, both Latin and Sabine in origin, oversaw the gradual expansion of Roman\n",
            "influence over the surrounding hills and villages. They are credited with\n",
            "establishing rudimentary social and political institutions, infrastructure like\n",
            "the Cloaca Maxima (Rome's main sewer, a testament to their early engineering\n",
            "prowess), and basic military structures. However, the reign of the last king,\n",
            "Tarquinius Superbus, was marked by tyranny and oppression. His overthrow, a\n",
            "violent act fueled by the abuse of power and aristocratic resentment, ushered in\n",
            "a new era: the **Roman Republic (circa 509 BCE).**\n",
            "\n",
            "The Republic was a bold experiment in self-governance, albeit one largely\n",
            "confined to the patrician class (the wealthy, landowning elite). Power was\n",
            "distributed among several offices and assemblies designed to prevent the\n",
            "concentration of authority in any single individual. The **Senate**, composed of\n",
            "experienced patricians, provided advice and guidance. Two **Consuls**, elected\n",
            "annually, served as chief executives and military commanders. Assemblies of\n",
            "Roman citizens, such as the Comitia Centuriata and Comitia Tributa, voted on\n",
            "laws and elected officials. The system, though complex and often plagued by\n",
            "infighting, proved remarkably resilient.\n",
            "\n",
            "The early Republic was characterized by constant **military expansion and\n",
            "consolidation.** Rome tirelessly fought its neighbors, gradually bringing the\n",
            "Italian peninsula under its control. Wars against the Etruscans, the Samnites,\n",
            "and the various Latin tribes hardened Roman legions into a formidable fighting\n",
            "force. This period was marked by a fierce sense of civic duty, discipline, and\n",
            "the glorification of military valor. The legend of Cincinnatus, who relinquished\n",
            "his dictatorial powers and returned to his farm after saving Rome from crisis,\n",
            "epitomizes the Roman ideal of selfless service to the state.\n",
            "\n",
            "As Rome's power grew, so did the **social tensions** within the Republic. The\n",
            "plebeians (common citizens) felt increasingly marginalized and oppressed by the\n",
            "patrician elite. This led to the \"Struggle of the Orders,\" a long and protracted\n",
            "period of political and social unrest during which plebeians demanded greater\n",
            "rights and representation. They achieved significant victories, including the\n",
            "establishment of the office of **Tribune of the Plebs**, who could veto acts of\n",
            "the Senate and protect plebeian interests, and the codification of Roman law in\n",
            "the **Twelve Tables**.\n",
            "\n",
            "The mid-Republic saw Rome rise to become a dominant power in the Mediterranean.\n",
            "The **Punic Wars (264-146 BCE)** against Carthage, a powerful maritime empire\n",
            "based in North Africa, were crucial in shaping Rome's destiny. These brutal and\n",
            "protracted conflicts, culminating in the complete destruction of Carthage,\n",
            "established Rome as the undisputed master of the Mediterranean Sea. Figures like\n",
            "Hannibal, the brilliant Carthaginian general who invaded Italy and inflicted\n",
            "devastating defeats on Roman armies, became legendary adversaries, forever\n",
            "etched in Roman memory.\n",
            "\n",
            "The influx of wealth and power from conquered territories, however, created new\n",
            "problems. The gap between rich and poor widened, creating social unrest and\n",
            "political instability. Ambitious generals, such as Marius and Sulla, exploited\n",
            "the loyalty of their troops to gain political power, leading to bloody civil\n",
            "wars. The Gracchi brothers, Tiberius and Gaius, attempted to address the growing\n",
            "inequality through land reform, but were both assassinated, further fueling the\n",
            "cycle of violence.\n",
            "\n",
            "The late Republic was marked by a series of power struggles between ambitious\n",
            "individuals vying for control. The **First Triumvirate**, an informal alliance\n",
            "between Julius Caesar, Pompey, and Crassus, temporarily stabilized the political\n",
            "landscape, but ultimately collapsed due to personal rivalries. Caesar's conquest\n",
            "of Gaul (modern-day France) brought him immense wealth, military prestige, and a\n",
            "devoted army. His subsequent crossing of the Rubicon River in 49 BCE, a direct\n",
            "challenge to the authority of the Senate, triggered another civil war.\n",
            "\n",
            "**Julius Caesar emerged victorious**, defeating Pompey and his allies. He was\n",
            "appointed dictator for life and implemented a series of reforms, including\n",
            "reorganizing the calendar, expanding Roman citizenship, and attempting to\n",
            "address the economic problems plaguing the city. However, his ambition and\n",
            "perceived desire to become king aroused the suspicions of conservative senators,\n",
            "who conspired to assassinate him in 44 BCE.\n",
            "\n",
            "Caesar's death plunged Rome into another period of chaos. The **Second\n",
            "Triumvirate**, composed of Caesar's adopted son Octavian, Mark Antony, and\n",
            "Lepidus, was formed to avenge his death and restore order. However, this\n",
            "alliance also fractured, leading to a final showdown between Octavian and\n",
            "Antony. Antony's alliance with Cleopatra, the Queen of Egypt, added a dramatic\n",
            "flair to the conflict. Octavian's victory at the Battle of Actium in 31 BCE\n",
            "marked the end of the Republic and the beginning of the **Roman Empire.**\n",
            "\n",
            "Octavian, later known as **Augustus**, carefully crafted a new political order.\n",
            "He maintained the facade of Republican institutions while consolidating power in\n",
            "his own hands. He adopted the title of \"Princeps,\" or \"First Citizen,\" and\n",
            "gradually acquired numerous powers and titles, including imperator (commander),\n",
            "pontifex maximus (chief priest), and tribune for life. Augustus ushered in a\n",
            "period of relative peace and prosperity known as the **Pax Romana** (Roman\n",
            "Peace), which lasted for over two centuries.\n",
            "\n",
            "The **early Empire** was marked by the reigns of the Julio-Claudian emperors\n",
            "(Augustus, Tiberius, Caligula, Claudius, and Nero). These emperors consolidated\n",
            "the imperial system, expanded the empire's borders, and oversaw significant\n",
            "building projects. However, their reigns were also marred by court intrigues,\n",
            "conspiracies, and the excesses of some of the more infamous emperors, such as\n",
            "Caligula and Nero.\n",
            "\n",
            "The **Flavian dynasty** (Vespasian, Titus, and Domitian) followed the\n",
            "Julio-Claudians. Vespasian restored stability after a period of civil war and\n",
            "initiated the construction of the Colosseum. Titus ruled during the eruption of\n",
            "Mount Vesuvius, which buried Pompeii and Herculaneum. Domitian, while an\n",
            "effective administrator, was assassinated due to his increasingly autocratic\n",
            "rule.\n",
            "\n",
            "The **\"Five Good Emperors\"** (Nerva, Trajan, Hadrian, Antoninus Pius, and Marcus\n",
            "Aurelius) marked the high point of the Roman Empire. These emperors were chosen\n",
            "for their competence and character, rather than by hereditary succession. They\n",
            "oversaw a period of economic prosperity, territorial expansion, and cultural\n",
            "flourishing. Trajan expanded the empire to its greatest extent, while Hadrian\n",
            "focused on consolidating existing territories and building defensive\n",
            "fortifications, such as Hadrian's Wall in Britain. Marcus Aurelius, a\n",
            "philosopher-king, is renowned for his Stoic wisdom.\n",
            "\n",
            "The **late Empire** was a period of increasing instability, decline, and\n",
            "eventual collapse. The reign of Commodus, Marcus Aurelius' son, marked the\n",
            "beginning of a decline in the quality of imperial leadership. The empire faced\n",
            "increasing pressure from barbarian tribes along its borders, economic problems,\n",
            "and internal political turmoil.\n",
            "\n",
            "The **Crisis of the Third Century** (235-284 CE) was a particularly turbulent\n",
            "period, marked by civil wars, barbarian invasions, and economic collapse. Em\n",
            "perors rose and fell in rapid succession, often assassinated by their own\n",
            "troops. The empire nearly fragmented into several independent states.\n",
            "\n",
            "The emperors **Diocletian and Constantine** attempted to restore order and\n",
            "stability. Diocletian divided the empire into eastern and western halves, each\n",
            "ruled by an emperor and a Caesar (junior emperor). This system, known as the\n",
            "**Tetrarchy**, was designed to improve administration and defense. Constantine\n",
            "legalized Christianity with the Edict of Milan in 313 CE and later moved the\n",
            "capital of the empire to Byzantium, which he renamed **Constantinople**.\n",
            "\n",
            "The **division of the empire** became permanent in 395 CE. The Western Roman\n",
            "Empire continued to decline under pressure from barbarian invasions. In 410 CE,\n",
            "Rome was sacked by the Visigoths, a symbolic blow that shook the empire to its\n",
            "core. In 476 CE, the last Western Roman Emperor, Romulus Augustulus, was deposed\n",
            "by the Germanic chieftain Odoacer, marking the traditional **fall of the Western\n",
            "Roman Empire.**\n",
            "\n",
            "The **Eastern Roman Empire**, also known as the Byzantine Empire, continued to\n",
            "thrive for another thousand years. Based in Constantinople, it preserved Roman\n",
            "traditions, law, and culture. The Byzantine Empire reached its zenith under the\n",
            "Emperor Justinian in the 6th century CE, who reconquered much of the former\n",
            "Western Roman Empire and codified Roman law. The Byzantine Empire finally fell\n",
            "to the Ottoman Turks in 1453 CE, with the capture of Constantinople.\n",
            "\n",
            "In conclusion, the evolution of the Roman Empire was a complex and multifaceted\n",
            "process, spanning over a millennium. From its humble beginnings as a small\n",
            "city-state to its dominance over the Mediterranean world and its eventual\n",
            "division and decline, the Roman Empire left an indelible mark on Western\n",
            "civilization. Its legacy can be seen in our laws, language, architecture, and\n",
            "political institutions. It’s a story of ambition, conquest, innovation, and\n",
            "ultimately, the inherent fragility of even the most powerful empires. It is a\n",
            "story that continues to fascinate and inspire us today. And THAT, my friend, is\n",
            "the (somewhat long-winded) story of the Roman Empire!\n"
          ]
        }
      ],
      "source": [
        "#code is not necessary for colab.ai, but is useful in fomatting text chunks\n",
        "import sys\n",
        "from google.colab import ai\n",
        "\n",
        "\n",
        "class LineWrapper:\n",
        "    def __init__(self, max_length=80):\n",
        "        self.max_length = max_length\n",
        "        self.current_line_length = 0\n",
        "\n",
        "    def print(self, text_chunk):\n",
        "        i = 0\n",
        "        n = len(text_chunk)\n",
        "        while i < n:\n",
        "            start_index = i\n",
        "            while i < n and text_chunk[i] not in ' \\n': # Find end of word\n",
        "                i += 1\n",
        "            current_word = text_chunk[start_index:i]\n",
        "\n",
        "            delimiter = \"\"\n",
        "            if i < n: # If not end of chunk, we found a delimiter\n",
        "                delimiter = text_chunk[i]\n",
        "                i += 1 # Consume delimiter\n",
        "\n",
        "            if current_word:\n",
        "                needs_leading_space = (self.current_line_length > 0)\n",
        "\n",
        "                # Case 1: Word itself is too long for a line (must be broken)\n",
        "                if len(current_word) > self.max_length:\n",
        "                    if needs_leading_space: # Newline if current line has content\n",
        "                        sys.stdout.write('\\n')\n",
        "                        self.current_line_length = 0\n",
        "                    for char_val in current_word: # Break the long word\n",
        "                        if self.current_line_length >= self.max_length:\n",
        "                            sys.stdout.write('\\n')\n",
        "                            self.current_line_length = 0\n",
        "                        sys.stdout.write(char_val)\n",
        "                        self.current_line_length += 1\n",
        "                # Case 2: Word doesn't fit on current line (print on new line)\n",
        "                elif self.current_line_length + (1 if needs_leading_space else 0) + len(current_word) > self.max_length:\n",
        "                    sys.stdout.write('\\n')\n",
        "                    sys.stdout.write(current_word)\n",
        "                    self.current_line_length = len(current_word)\n",
        "                # Case 3: Word fits on current line\n",
        "                else:\n",
        "                    if needs_leading_space:\n",
        "                        # Define punctuation that should not have a leading space\n",
        "                        # when they form an entire \"word\" (token) following another word.\n",
        "                        no_leading_space_punctuation = {\n",
        "                            \",\", \".\", \";\", \":\", \"!\", \"?\",        # Standard sentence punctuation\n",
        "                            \")\", \"]\", \"}\",                     # Closing brackets\n",
        "                            \"'s\", \"'S\", \"'re\", \"'RE\", \"'ve\", \"'VE\", # Common contractions\n",
        "                            \"'m\", \"'M\", \"'ll\", \"'LL\", \"'d\", \"'D\",\n",
        "                            \"n't\", \"N'T\",\n",
        "                            \"...\", \"…\"                          # Ellipses\n",
        "                        }\n",
        "                        if current_word not in no_leading_space_punctuation:\n",
        "                            sys.stdout.write(' ')\n",
        "                            self.current_line_length += 1\n",
        "                    sys.stdout.write(current_word)\n",
        "                    self.current_line_length += len(current_word)\n",
        "\n",
        "            if delimiter == '\\n':\n",
        "                sys.stdout.write('\\n')\n",
        "                self.current_line_length = 0\n",
        "            elif delimiter == ' ':\n",
        "                # If line is full and a space delimiter arrives, it implies a wrap.\n",
        "                if self.current_line_length >= self.max_length:\n",
        "                    sys.stdout.write('\\n')\n",
        "                    self.current_line_length = 0\n",
        "\n",
        "        sys.stdout.flush()\n",
        "\n",
        "\n",
        "wrapper = LineWrapper()\n",
        "for chunk in ai.generate_text('Give me a long winded description about the evolution of the Roman Empire.', model_name='google/gemini-2.0-flash', stream=True):\n",
        "  wrapper.print(chunk)"
      ]
    }
  ],
  "metadata": {
    "colab": {
      "provenance": [],
      "include_colab_link": true
    },
    "kernelspec": {
      "display_name": "Python 3",
      "name": "python3"
    },
    "language_info": {
      "name": "python"
    }
  },
  "nbformat": 4,
  "nbformat_minor": 0
}