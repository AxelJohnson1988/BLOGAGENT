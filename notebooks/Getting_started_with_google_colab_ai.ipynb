{
  "cells": [
    {
      "metadata": {
        "id": "wdj9RMfoGPC2"
      },
      "cell_type": "markdown",
      "source": [
        "Colab is making it easier than ever to integrate powerful Generative AI capabilities into your projects. We are launching public preview for a simple and intuitive Python library (google.colab.ai) to access state-of-the-art language models directly within Pro and Pro+ subscriber Colab environments.  This means subscribers can spend less time on configuration and set up and more time bringing their ideas to life. With just a few lines of code, you can now perform a variety of tasks:\n",
        "- Generate text\n",
        "- Translate languages\n",
        "- Write creative content\n",
        "- Categorize text\n",
        "\n",
        "Happy Coding!\n",
        "\n",
        "\n",
        "[![Open In Colab](https://colab.research.google.com/assets/colab-badge.svg)](https://colab.research.google.com/github/googlecolab/colabtools/blob/main/notebooks/Getting_started_with_google_colab_ai.ipynb)"
      ]
    },
    {
      "metadata": {
        "id": "Ucchuu5vV3Jp",
        "outputId": "2b1a3990-d66c-4e49-fa2c-63c177c019f9",
        "colab": {
          "base_uri": "https://localhost:8080/"
        }
      },
      "cell_type": "code",
      "source": [
        "# @title List available models\n",
        "from google.colab import ai\n",
        "\n",
        "ai.list_models()"
      ],
      "outputs": [
        {
          "output_type": "execute_result",
          "data": {
            "text/plain": [
              "['google/gemini-2.0-flash',\n",
              " 'google/gemini-2.0-flash-lite',\n",
              " 'google/gemini-2.5-flash',\n",
              " 'google/gemini-2.5-flash-lite',\n",
              " 'google/gemini-2.5-pro',\n",
              " 'google/gemma-3-12b',\n",
              " 'google/gemma-3-1b',\n",
              " 'google/gemma-3-27b',\n",
              " 'google/gemma-3-4b']"
            ]
          },
          "metadata": {},
          "execution_count": 79
        }
      ],
      "execution_count": 79
    },
    {
      "metadata": {
        "id": "LjfCGEpzDsD9"
      },
      "cell_type": "markdown",
      "source": [
        "Choosing a Model\n",
        "The model names give you a hint about their capabilities and intended use:\n",
        "\n",
        "Pro: These are the most capable models, ideal for complex reasoning, creative tasks, and detailed analysis.\n",
        "\n",
        "Flash: These models are optimized for high speed and efficiency, making them great for summarization, chat applications, and tasks requiring rapid responses.\n",
        "\n",
        "Gemma: These are lightweight, open-weight models suitable for a variety of text generation tasks and are great for experimentation."
      ]
    },
    {
      "metadata": {
        "id": "R7taibpc7x2l",
        "colab": {
          "base_uri": "https://localhost:8080/"
        },
        "outputId": "fce721dc-29da-4a26-fd09-a4a1d5e047e8"
      },
      "cell_type": "code",
      "source": [
        "# @title Simple batch generation example\n",
        "# Only text-to-text input/output is supported\n",
        "from google.colab import ai\n",
        "\n",
        "response = ai.generate_text(\"What is the capital of France?\")\n",
        "print(response)"
      ],
      "outputs": [
        {
          "output_type": "stream",
          "name": "stdout",
          "text": [
            "The capital of France is **Paris**.\n"
          ]
        }
      ],
      "execution_count": 80
    },
    {
      "metadata": {
        "colab": {
          "base_uri": "https://localhost:8080/"
        },
        "id": "NHO9VzO9AHZP",
        "outputId": "61944748-0cb9-4ede-e52f-efc340aa4f6c"
      },
      "cell_type": "code",
      "source": [
        "# @title Choose a different model\n",
        "from google.colab import ai\n",
        "\n",
        "response = ai.generate_text(\"What is the capital of England\", model_name='google/gemini-2.0-flash-lite')\n",
        "print(response)"
      ],
      "outputs": [
        {
          "output_type": "stream",
          "name": "stdout",
          "text": [
            "The capital of England is London.\n",
            "\n"
          ]
        }
      ],
      "execution_count": 81
    },
    {
      "metadata": {
        "id": "ysDdFbH_Dgtz"
      },
      "cell_type": "markdown",
      "source": [
        "For longer text generations, you can stream the response. This displays the output token by token as it's generated, rather than waiting for the entire response to complete. This provides a more interactive and responsive experience. To enable this, simply set stream=True."
      ]
    },
    {
      "metadata": {
        "colab": {
          "base_uri": "https://localhost:8080/"
        },
        "id": "4BNgxiB6--_5",
        "outputId": "bb8651fc-ba85-4b81-cbaa-0ac74e54e66b"
      },
      "cell_type": "code",
      "source": [
        "# @title Simple streaming example\n",
        "from google.colab import ai\n",
        "\n",
        "stream = ai.generate_text(\"Tell me a short story.\", stream=True)\n",
        "for text in stream:\n",
        "  print(text, end='')"
      ],
      "outputs": [
        {
          "output_type": "stream",
          "name": "stdout",
          "text": [
            "Elara lived in a small cottage nestled amongst ancient oak trees, her days woven with the rhythm of the garden. One crisp autumn afternoon, as the sun dipped low, painting the sky in hues of orange and violet, Elara was deadheading the last of her roses. A faint, bell-like chime drifted through the air, too delicate to be wind chimes, too clear to be a bird.\n",
            "\n",
            "She paused, secateurs mid-snip, and listened. The chime came again, softer this time, seeming to emanate from beneath the sprawling roots of an old apple tree. Curiosity, a well-worn companion in Elara’s quiet life, tugged at her.\n",
            "\n",
            "Kneeling, she parted the tangled ivy and damp moss. There, nestled like a misplaced jewel, was a miniature glass dome, no bigger than her thumb. Inside, a tiny, intricate mechanism of brass and crystal whirred almost imperceptibly, casting a faint, warm glow. It hummed with a gentle energy, like a trapped whisper of starlight.\n",
            "\n",
            "Elara carefully picked it up. It was cool and smooth to the touch, yet the light within seemed to warm her palm. As she held it, the brass gears inside shimmered, and a cascade of tiny, melodic chimes spilled into the air, a sound so pure it brought a gentle smile to her lips.\n",
            "\n",
            "She spent the rest of the evening mesmerized, placing the little dome on her windowsill, watching its subtle dance of light and listening to its occasional, soft song. It cast dancing shadows on her walls, turning her familiar cottage into a place of quiet magic.\n",
            "\n",
            "The next morning, the dome was still there, its light now a soft, pulsing beacon. Elara realized she had found not just an object, but a tiny, living piece of wonder. She placed it back amongst the ivy under the apple tree, its natural home, visiting it each day. The little chime became the garden's secret heartbeat, a reminder that even in the most ordinary of lives, extraordinary magic often lies just beneath the surface, waiting to be discovered."
          ]
        }
      ],
      "execution_count": 82
    },
    {
      "metadata": {
        "id": "CpMmpaVClSBV",
        "cellView": "form"
      },
      "cell_type": "code",
      "source": [
        "#@title Text formatting setup\n",
        "#code is not necessary for colab.ai, but is useful in fomatting text chunks\n",
        "import sys\n",
        "\n",
        "class LineWrapper:\n",
        "    def __init__(self, max_length=80):\n",
        "        self.max_length = max_length\n",
        "        self.current_line_length = 0\n",
        "\n",
        "    def print(self, text_chunk):\n",
        "        i = 0\n",
        "        n = len(text_chunk)\n",
        "        while i < n:\n",
        "            start_index = i\n",
        "            while i < n and text_chunk[i] not in ' \\n': # Find end of word\n",
        "                i += 1\n",
        "            current_word = text_chunk[start_index:i]\n",
        "\n",
        "            delimiter = \"\"\n",
        "            if i < n: # If not end of chunk, we found a delimiter\n",
        "                delimiter = text_chunk[i]\n",
        "                i += 1 # Consume delimiter\n",
        "\n",
        "            if current_word:\n",
        "                needs_leading_space = (self.current_line_length > 0)\n",
        "\n",
        "                # Case 1: Word itself is too long for a line (must be broken)\n",
        "                if len(current_word) > self.max_length:\n",
        "                    if needs_leading_space: # Newline if current line has content\n",
        "                        sys.stdout.write('\\n')\n",
        "                        self.current_line_length = 0\n",
        "                    for char_val in current_word: # Break the long word\n",
        "                        if self.current_line_length >= self.max_length:\n",
        "                            sys.stdout.write('\\n')\n",
        "                            self.current_line_length = 0\n",
        "                        sys.stdout.write(char_val)\n",
        "                        self.current_line_length += 1\n",
        "                # Case 2: Word doesn't fit on current line (print on new line)\n",
        "                elif self.current_line_length + (1 if needs_leading_space else 0) + len(current_word) > self.max_length:\n",
        "                    sys.stdout.write('\\n')\n",
        "                    sys.stdout.write(current_word)\n",
        "                    self.current_line_length = len(current_word)\n",
        "                # Case 3: Word fits on current line\n",
        "                else:\n",
        "                    if needs_leading_space:\n",
        "                        # Define punctuation that should not have a leading space\n",
        "                        # when they form an entire \"word\" (token) following another word.\n",
        "                        no_leading_space_punctuation = {\n",
        "                            \",\", \".\", \";\", \":\", \"!\", \"?\",        # Standard sentence punctuation\n",
        "                            \")\", \"]\", \"}\",                     # Closing brackets\n",
        "                            \"'s\", \"'S\", \"'re\", \"'RE\", \"'ve\", \"'VE\", # Common contractions\n",
        "                            \"'m\", \"'M\", \"'ll\", \"'LL\", \"'d\", \"'D\",\n",
        "                            \"n't\", \"N'T\",\n",
        "                            \"...\", \"…\"                          # Ellipses\n",
        "                        }\n",
        "                        if current_word not in no_leading_space_punctuation:\n",
        "                            sys.stdout.write(' ')\n",
        "                            self.current_line_length += 1\n",
        "                    sys.stdout.write(current_word)\n",
        "                    self.current_line_length += len(current_word)\n",
        "\n",
        "            if delimiter == '\\n':\n",
        "                sys.stdout.write('\\n')\n",
        "                self.current_line_length = 0\n",
        "            elif delimiter == ' ':\n",
        "                # If line is full and a space delimiter arrives, it implies a wrap.\n",
        "                if self.current_line_length >= self.max_length:\n",
        "                    sys.stdout.write('\\n')\n",
        "                    self.current_line_length = 0\n",
        "\n",
        "        sys.stdout.flush()\n"
      ],
      "outputs": [],
      "execution_count": 83
    },
    {
      "metadata": {
        "colab": {
          "base_uri": "https://localhost:8080/"
        },
        "id": "DWiLPzTnRoy-",
        "outputId": "ade50cba-531c-4e92-d0e8-ce4316b9889d"
      },
      "cell_type": "code",
      "source": [
        "# @title Formatted streaming example\n",
        "from google.colab import ai\n",
        "\n",
        "wrapper = LineWrapper()\n",
        "for chunk in ai.generate_text('Give me a long winded description about the evolution of the Roman Empire.', model_name='google/gemini-2.0-flash', stream=True):\n",
        "  wrapper.print(chunk)"
      ],
      "outputs": [
        {
          "output_type": "stream",
          "name": "stdout",
          "text": [
            "Alright, buckle up, because tracing the evolution of the Roman Empire is like\n",
            "watching a caterpillar morph into a butterfly... except the butterfly also\n",
            "builds aqueducts, conquers Gaul, and occasionally stabs its rivals in the back.\n",
            "We're not talking about a simple transformation, but a centuries-long,\n",
            "multifaceted saga that involves politics, war, social upheaval, cultural\n",
            "assimilation, and enough drama to fill a Shakespearean tragedy (or several).\n",
            "\n",
            "Let's start at the (often romantic ized) beginning: the **Roman Republic**,\n",
            "birthed around 509 BC after the expulsion of the tyrannical King Tarquin the\n",
            "Proud. Imagine a city-state emerging from the ashes of monarchy, determined to\n",
            "build a government based on shared power (at least, in theory). This wasn't a\n",
            "democracy in the modern sense; it was an aristocracy, with power concentrated in\n",
            "the hands of wealthy patrician families who formed the Senate. However, there\n",
            "were also assemblies for the plebeians (the common citizens), allowing them to\n",
            "participate, albeit to a lesser extent, in the political process.\n",
            "\n",
            "For centuries, the Republic thrived, fueled by a potent combination of military\n",
            "prowess, shrewd diplomacy, and a seemingly insatiable hunger for expansion.\n",
            "Roman legions, disciplined and well-organized, marched across Italy, subjugating\n",
            "neighboring tribes and consolidating control over the peninsula. They were\n",
            "masters of both pitched battles and siege warfare, and their ability to absorb\n",
            "defeated populations into the Roman system – often offering citizenship and\n",
            "opportunities for advancement – was a key factor in their success.\n",
            "\n",
            "This expansion, however, was far from peaceful. The **Punic Wars** against\n",
            "Carthage, a powerful North African trading empire, were brutal, protracted\n",
            "conflicts that tested the Republic's resilience to its absolute limit.\n",
            "Hannibal's daring invasion of Italy, crossing the Alps with his war elephants,\n",
            "remains one of the most audacious military feats in history. Ultimately, Rome\n",
            "emerged victorious, effectively eliminating Carthage as a rival and establishing\n",
            "itself as the dominant power in the Mediterranean.\n",
            "\n",
            "This dominance brought immense wealth and resources to Rome, but it also sowed\n",
            "the seeds of the Republic's eventual downfall. The influx of slaves undermined\n",
            "the traditional agricultural base, creating widespread unemployment and social\n",
            "unrest. Land was increasingly concentrated in the hands of the wealthy elite,\n",
            "further exacerbating inequalities. Ambitious generals, like Marius and Sulla,\n",
            "began to use their armies for personal gain, challenging the authority of the\n",
            "Senate and plunging the Republic into periods of civil war.\n",
            "\n",
            "The late Republic became a playground for powerful individuals vying for\n",
            "control. Figures like **Jul ius Caesar** emerged, brilliant military commanders\n",
            "who understood how to manipulate the political system and cultivate popular\n",
            "support. Caesar's conquest of Gaul, documented in his famous \"Commentaries,\"\n",
            "further expanded Roman territory and solidified his reputation as a military\n",
            "genius. His subsequent defiance of the Senate and march on Rome marked a\n",
            "decisive break with the Republican tradition.\n",
            "\n",
            "Caesar's assassination in 44 BC, while intended to restore the Republic, only\n",
            "plunged Rome into further chaos. A second triumvirate, composed of Mark Antony,\n",
            "Lepidus, and Octavian (Caesar's adopted son), emerged to restore order, but\n",
            "their power-sharing arrangement was doomed from the start. Eventually, it\n",
            "devolved into a power struggle between Antony and Octavian, culminating in the\n",
            "decisive Battle of Actium in 31 BC.\n",
            "\n",
            "Octavian's victory marked the effective end of the Roman Republic. He cleverly\n",
            "avoided the title of \"king\" or \"dictator,\" instead adopting the title of\n",
            "**\"Princeps\"** (\"first citizen\") and carefully cultivating the image of a\n",
            "benevolent leader who was simply restoring stability and order. This ushered in\n",
            "the era of the **Roman Empire**, with Octavian, now known as **Augustus**, as\n",
            "its first emperor.\n",
            "\n",
            "Augustus established a system of imperial rule that would last for centuries. He\n",
            "centralized power in his own hands while maintaining the façade of Republican\n",
            "institutions, carefully managing the Senate and assemblies to ensure their\n",
            "subservience. He also embarked on a massive program of public works, beautifying\n",
            "Rome and solidifying his popularity. The period known as the **Pax Romana**\n",
            "(\"Roman Peace\") began, a time of relative peace and prosperity that allowed the\n",
            "Empire to flourish.\n",
            "\n",
            "The next few centuries saw a succession of emperors, some wise and just, others\n",
            "tyrannical and insane. The **Julio-Claudian dynasty** (Augustus, Tiberius,\n",
            "Caligula, Claudius, Nero) was a mixed bag, marked by intrigue, scandal, and\n",
            "occasional brilliance. The **Flavian dynasty** (Vespasian, Titus, Domitian)\n",
            "restored order after a period of civil war, and the **Nerva-Antonine dynasty**\n",
            "(Nerva, Trajan, Hadrian, Antoninus Pius, Marcus Aurelius) is often considered\n",
            "the \"Golden Age\" of the Empire, a time of wise rulers and sustained prosperity.\n",
            "\n",
            "Under emperors like **Trajan**, the Empire reached its greatest territorial\n",
            "extent, stretching from Britain to Mesopotamia. However, the vastness of the\n",
            "Empire also created challenges. Maintaining control over such a large territory\n",
            "required a massive bureaucracy and a powerful military.\n",
            "\n",
            "By the 3rd century AD, the Empire was facing a multitude of crises. Internal\n",
            "political instability, economic problems, and constant pressure from barbarian\n",
            "tribes along the frontiers threatened to tear it apart. The **Crisis of the\n",
            "Third Century** saw a rapid succession of emperors, civil wars, and economic\n",
            "collapse.\n",
            "\n",
            "**Diocletian**, a strong and pragmatic emperor, attempted to address these\n",
            "problems by dividing the Empire into two halves: the Western Roman Empire and\n",
            "the Eastern Roman Empire. He also implemented a system of **tetrarchy**, with\n",
            "two senior emperors (Augusti) and two junior emperors (Caes ars) ruling jointly.\n",
            "This system, while initially effective, eventually broke down into renewed civil\n",
            "war.\n",
            "\n",
            "**Constantine the Great** reunited the Empire, at least temporarily, and made a\n",
            "pivotal decision: he legalized Christianity, which had previously been\n",
            "persecuted. Constantine's conversion to Christianity and the subsequent rise of\n",
            "the Church as a powerful force within the Empire profoundly shaped its future.\n",
            "He also moved the capital of the Empire to Byzantium, which he renamed\n",
            "**Constantinople**.\n",
            "\n",
            "After Constantine's death, the division of the Empire became permanent. The\n",
            "**Western Roman Empire** continued to decline, weakened by internal strife,\n",
            "economic problems, and relentless pressure from barbarian migrations. In 410 AD,\n",
            "Rome was sacked by the Visigoths, a symbolic blow that shook the foundations of\n",
            "the Empire. Finally, in 476 AD, the last Western Roman Emperor, Romulus\n",
            "Augustulus, was deposed by the barbarian chieftain Odoacer.\n",
            "\n",
            "The ** Eastern Roman Empire**, also known as the **Byzantine Empire**, with its\n",
            "capital at Constantinople, proved to be far more resilient. It survived for\n",
            "another thousand years, preserving Roman traditions and culture while evolving\n",
            "into a distinct Byzantine civilization. It was a center of trade, learning, and\n",
            "art, and it played a crucial role in preserving classical knowledge during the\n",
            "Dark Ages in Europe. The Byzantine Empire finally fell to the Ottoman Turks in\n",
            "1453 AD, with the capture of Constantinople.\n",
            "\n",
            "So, the evolution of the Roman Empire wasn't a linear progression, but a complex\n",
            "and dynamic process marked by periods of growth, decline, and transformation. It\n",
            "was a story of political ambition, military conquest, social upheaval, cultural\n",
            "fusion, and ultimately, fragmentation. From a small city-state to a vast empire\n",
            "spanning continents, Rome left an indelible mark on Western civilization,\n",
            "shaping our laws, languages, architecture, and political thought. It's a story\n",
            "that continues to fascin ate and inspire us to this day.\n"
          ]
        }
      ],
      "execution_count": 84
    }
  ],
  "metadata": {
    "colab": {
      "provenance": []
    },
    "kernelspec": {
      "name": "python3",
      "display_name": "Python 3"
    },
    "language_info": {
      "name": "python"
    }
  },
  "nbformat": 4,
  "nbformat_minor": 0
}